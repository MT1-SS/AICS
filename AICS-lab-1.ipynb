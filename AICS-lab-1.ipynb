{
 "cells": [
  {
   "cell_type": "markdown",
   "id": "7814b8f0-76cf-4dc7-89fd-710cdd088496",
   "metadata": {},
   "source": [
    "# This is where we get things setup, need to import pandas and numpy so we can do fun stuff\n",
    "# Then we load the iris data set from Sci kit as a dataframe"
   ]
  },
  {
   "cell_type": "code",
   "execution_count": 48,
   "id": "c480ff45-7012-4db5-981c-3dcc08de4fca",
   "metadata": {},
   "outputs": [],
   "source": [
    "import pandas as pd\n",
    "import numpy as np\n",
    "from sklearn.datasets import load_iris\n",
    "iris = load_iris(as_frame=True)\n"
   ]
  },
  {
   "cell_type": "markdown",
   "id": "a16199eb-cf62-478f-8762-788d94dfda84",
   "metadata": {},
   "source": [
    "# Tells what feature (column) data is in the iris data set. "
   ]
  },
  {
   "cell_type": "code",
   "execution_count": 49,
   "id": "01c3a4d8-676c-48b2-b6f0-4447950b76c6",
   "metadata": {},
   "outputs": [
    {
     "data": {
      "text/html": [
       "<div>\n",
       "<style scoped>\n",
       "    .dataframe tbody tr th:only-of-type {\n",
       "        vertical-align: middle;\n",
       "    }\n",
       "\n",
       "    .dataframe tbody tr th {\n",
       "        vertical-align: top;\n",
       "    }\n",
       "\n",
       "    .dataframe thead th {\n",
       "        text-align: right;\n",
       "    }\n",
       "</style>\n",
       "<table border=\"1\" class=\"dataframe\">\n",
       "  <thead>\n",
       "    <tr style=\"text-align: right;\">\n",
       "      <th></th>\n",
       "      <th>sepal length (cm)</th>\n",
       "      <th>sepal width (cm)</th>\n",
       "      <th>petal length (cm)</th>\n",
       "      <th>petal width (cm)</th>\n",
       "    </tr>\n",
       "  </thead>\n",
       "  <tbody>\n",
       "    <tr>\n",
       "      <th>0</th>\n",
       "      <td>5.1</td>\n",
       "      <td>3.5</td>\n",
       "      <td>1.4</td>\n",
       "      <td>0.2</td>\n",
       "    </tr>\n",
       "    <tr>\n",
       "      <th>1</th>\n",
       "      <td>4.9</td>\n",
       "      <td>3.0</td>\n",
       "      <td>1.4</td>\n",
       "      <td>0.2</td>\n",
       "    </tr>\n",
       "    <tr>\n",
       "      <th>2</th>\n",
       "      <td>4.7</td>\n",
       "      <td>3.2</td>\n",
       "      <td>1.3</td>\n",
       "      <td>0.2</td>\n",
       "    </tr>\n",
       "    <tr>\n",
       "      <th>3</th>\n",
       "      <td>4.6</td>\n",
       "      <td>3.1</td>\n",
       "      <td>1.5</td>\n",
       "      <td>0.2</td>\n",
       "    </tr>\n",
       "    <tr>\n",
       "      <th>4</th>\n",
       "      <td>5.0</td>\n",
       "      <td>3.6</td>\n",
       "      <td>1.4</td>\n",
       "      <td>0.2</td>\n",
       "    </tr>\n",
       "    <tr>\n",
       "      <th>...</th>\n",
       "      <td>...</td>\n",
       "      <td>...</td>\n",
       "      <td>...</td>\n",
       "      <td>...</td>\n",
       "    </tr>\n",
       "    <tr>\n",
       "      <th>145</th>\n",
       "      <td>6.7</td>\n",
       "      <td>3.0</td>\n",
       "      <td>5.2</td>\n",
       "      <td>2.3</td>\n",
       "    </tr>\n",
       "    <tr>\n",
       "      <th>146</th>\n",
       "      <td>6.3</td>\n",
       "      <td>2.5</td>\n",
       "      <td>5.0</td>\n",
       "      <td>1.9</td>\n",
       "    </tr>\n",
       "    <tr>\n",
       "      <th>147</th>\n",
       "      <td>6.5</td>\n",
       "      <td>3.0</td>\n",
       "      <td>5.2</td>\n",
       "      <td>2.0</td>\n",
       "    </tr>\n",
       "    <tr>\n",
       "      <th>148</th>\n",
       "      <td>6.2</td>\n",
       "      <td>3.4</td>\n",
       "      <td>5.4</td>\n",
       "      <td>2.3</td>\n",
       "    </tr>\n",
       "    <tr>\n",
       "      <th>149</th>\n",
       "      <td>5.9</td>\n",
       "      <td>3.0</td>\n",
       "      <td>5.1</td>\n",
       "      <td>1.8</td>\n",
       "    </tr>\n",
       "  </tbody>\n",
       "</table>\n",
       "<p>150 rows × 4 columns</p>\n",
       "</div>"
      ],
      "text/plain": [
       "     sepal length (cm)  sepal width (cm)  petal length (cm)  petal width (cm)\n",
       "0                  5.1               3.5                1.4               0.2\n",
       "1                  4.9               3.0                1.4               0.2\n",
       "2                  4.7               3.2                1.3               0.2\n",
       "3                  4.6               3.1                1.5               0.2\n",
       "4                  5.0               3.6                1.4               0.2\n",
       "..                 ...               ...                ...               ...\n",
       "145                6.7               3.0                5.2               2.3\n",
       "146                6.3               2.5                5.0               1.9\n",
       "147                6.5               3.0                5.2               2.0\n",
       "148                6.2               3.4                5.4               2.3\n",
       "149                5.9               3.0                5.1               1.8\n",
       "\n",
       "[150 rows x 4 columns]"
      ]
     },
     "execution_count": 49,
     "metadata": {},
     "output_type": "execute_result"
    }
   ],
   "source": [
    "iris.data"
   ]
  },
  {
   "cell_type": "markdown",
   "id": "343e2a09-3071-4df5-b174-a95d55be1cea",
   "metadata": {},
   "source": [
    "# Shows if there are null values in the data set"
   ]
  },
  {
   "cell_type": "code",
   "execution_count": 52,
   "id": "760132b6-bc6f-417a-b357-bf4b0cf406ab",
   "metadata": {},
   "outputs": [
    {
     "data": {
      "text/plain": [
       "False"
      ]
     },
     "execution_count": 52,
     "metadata": {},
     "output_type": "execute_result"
    }
   ],
   "source": [
    "pd.isnull(iris)"
   ]
  },
  {
   "cell_type": "markdown",
   "id": "6a1e459f-fcfb-4c63-af11-b1f1a57aa2f7",
   "metadata": {},
   "source": [
    "#shows In the context of pandas and machine learning, the \"target\" refers to the variable one aims to predict. \n",
    "#It is also known as the dependent variable, response variable, or label. \n",
    "#The target is the output or result that a model learns to predict based on the input features (independent variables).\n",
    "#When working with pandas DataFrames in a supervised machine learning task, the data is typically split into two parts:\n",
    "#Features (X):\n",
    "#These are the input variables used to make predictions. They form the columns of the DataFrame that the model uses to learn patterns.\n",
    "#Target (y):\n",
    "#This is the variable being predicted, often represented as a separate column or pandas Series.\n",
    "#For example, in a dataset predicting house prices:\n",
    "#Features (X) might include the size of the house, number of bedrooms, location, etc.\n",
    "#Target (y) would be the actual house price.\n",
    "#In scikit-learn datasets, the target is often stored as a separate array or Series, while the features are stored in \n",
    "#a NumPy array or DataFrame. When using the as_frame=True argument in scikit-learn's dataset loading functions, \n",
    "#the target is returned as a pandas Series."
   ]
  },
  {
   "cell_type": "code",
   "execution_count": 60,
   "id": "7afa6efa-86fe-4f24-b613-fe68d01f971c",
   "metadata": {},
   "outputs": [
    {
     "name": "stdout",
     "output_type": "stream",
     "text": [
      "Features (X):\n",
      "   sepal length (cm)  sepal width (cm)  petal length (cm)  petal width (cm)\n",
      "0                5.1               3.5                1.4               0.2\n",
      "1                4.9               3.0                1.4               0.2\n",
      "2                4.7               3.2                1.3               0.2\n",
      "3                4.6               3.1                1.5               0.2\n",
      "4                5.0               3.6                1.4               0.2\n",
      "\n",
      "Target (y):\n",
      "0    0\n",
      "1    0\n",
      "2    0\n",
      "3    0\n",
      "4    0\n",
      "Name: target, dtype: int64\n"
     ]
    }
   ],
   "source": [
    "#It is crucial to have a defined target variable for supervised learning tasks like regression and classification. \n",
    "#The choice and preparation of the target variable are vital steps in the machine learning workflow.\n",
    "\n",
    "data = iris.data  # Features (pandas DataFrame)\n",
    "target = iris.target # Target (pandas Series)\n",
    "\n",
    "print(\"Features (X):\")\n",
    "print(data.head())\n",
    "print(\"\\nTarget (y):\")\n",
    "print(target.head())"
   ]
  },
  {
   "cell_type": "code",
   "execution_count": null,
   "id": "b98c3fa5-65dd-42de-b4ca-e1f5d293eaee",
   "metadata": {},
   "outputs": [],
   "source": [
    "#checking for missing values"
   ]
  }
 ],
 "metadata": {
  "kernelspec": {
   "display_name": "Python 3 (ipykernel)",
   "language": "python",
   "name": "python3"
  },
  "language_info": {
   "codemirror_mode": {
    "name": "ipython",
    "version": 3
   },
   "file_extension": ".py",
   "mimetype": "text/x-python",
   "name": "python",
   "nbconvert_exporter": "python",
   "pygments_lexer": "ipython3",
   "version": "3.12.9"
  }
 },
 "nbformat": 4,
 "nbformat_minor": 5
}
